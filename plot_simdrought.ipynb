{
 "cells": [
  {
   "cell_type": "code",
   "execution_count": 2,
   "metadata": {
    "code_folding": [
     0,
     6
    ]
   },
   "outputs": [],
   "source": [
    "# Setting up\n",
    "import matplotlib.pyplot as plt\n",
    "from ipywidgets import interact, interactive,FloatSlider,IntSlider\n",
    "import deepdish.io as dd\n",
    "import numpy as np\n",
    "%matplotlib inline\n",
    "def find_closest(A, target):\n",
    "    #A must be sorted\n",
    "    idx = A.searchsorted(target)\n",
    "    idx = np.clip(idx, 1, len(A)-1)\n",
    "    left = A[idx-1]\n",
    "    right = A[idx]\n",
    "    idx -= target - left < right - target\n",
    "    return idx"
   ]
  },
  {
   "cell_type": "code",
   "execution_count": 3,
   "metadata": {
    "code_folding": [
     0
    ]
   },
   "outputs": [],
   "source": [
    "# Loading data\n",
    "#chi0_0 = dd.load('../../Dropbox/code/bwh/drought_chi0_0_random.hdf5')\n",
    "chi0_0 = dd.load('../../Dropbox/code/bwh/bwh_drought_chi0_0_random.hdf5')\n",
    "#chi0_5 = dd.load('results/draught_chi0_5_random.hdf5')\n",
    "chi1_0 = dd.load('../../Dropbox/code/bwh/bwh_drought_chi1_0_random.hdf5')\n",
    "#data = [chi0_0,chi1_0]"
   ]
  },
  {
   "cell_type": "code",
   "execution_count": 4,
   "metadata": {
    "code_folding": [
     0
    ]
   },
   "outputs": [],
   "source": [
    "def plotB(p):\n",
    "    fig,ax=plt.subplots(1,2,figsize=(2*6,6))\n",
    "    p_chi0_0 = np.amin(chi0_0['p'])+p*(np.amax(chi0_0['p'])-np.amin(chi0_0['p']))\n",
    "    p_chi1_0 = np.amin(chi1_0['p'])+p*(np.amax(chi1_0['p'])-np.amin(chi1_0['p']))\n",
    "    #print p\n",
    "    idx_chi0_0 = len(chi0_0['p'])-find_closest(np.sort(chi0_0['p']),p_chi0_0)-1\n",
    "    idx_chi1_0 = len(chi1_0['p'])-find_closest(np.sort(chi1_0['p']),p_chi1_0)-1\n",
    "    #print idx\n",
    "    ax[0].imshow(chi0_0['b'][idx_chi0_0],cmap=plt.cm.YlGn,vmax=1.0,vmin=0.0)\n",
    "    ax[1].imshow(chi1_0['b'][idx_chi1_0],cmap=plt.cm.YlGn,vmax=1.0,vmin=0.0)\n",
    "    #plt.colorbar()\n",
    "    print \"p=\",chi0_0['p'][idx_chi0_0],\", for chi=0 <b>=\",np.mean(chi0_0['b'][idx_chi0_0]),\n",
    "    print \",for chi=1 <b>=\",np.mean(chi1_0['b'][idx_chi1_0])"
   ]
  },
  {
   "cell_type": "code",
   "execution_count": 5,
   "metadata": {},
   "outputs": [
    {
     "data": {
      "application/vnd.jupyter.widget-view+json": {
       "model_id": "fd8e3c2b7dd643dbbc4a06322eb001df",
       "version_major": 2,
       "version_minor": 0
      },
      "text/html": [
       "<p>Failed to display Jupyter Widget of type <code>interactive</code>.</p>\n",
       "<p>\n",
       "  If you're reading this message in the Jupyter Notebook or JupyterLab Notebook, it may mean\n",
       "  that the widgets JavaScript is still loading. If this message persists, it\n",
       "  likely means that the widgets JavaScript library is either not installed or\n",
       "  not enabled. See the <a href=\"https://ipywidgets.readthedocs.io/en/stable/user_install.html\">Jupyter\n",
       "  Widgets Documentation</a> for setup instructions.\n",
       "</p>\n",
       "<p>\n",
       "  If you're reading this message in another frontend (for example, a static\n",
       "  rendering on GitHub or <a href=\"https://nbviewer.jupyter.org/\">NBViewer</a>),\n",
       "  it may mean that your frontend doesn't currently support widgets.\n",
       "</p>\n"
      ],
      "text/plain": [
       "interactive(children=(FloatSlider(value=1.0, description=u'p', max=1.0, step=0.01), Output()), _dom_classes=('widget-interact',))"
      ]
     },
     "metadata": {},
     "output_type": "display_data"
    },
    {
     "data": {
      "text/plain": [
       "<function __main__.plotB>"
      ]
     },
     "execution_count": 5,
     "metadata": {},
     "output_type": "execute_result"
    }
   ],
   "source": [
    "p_w        = FloatSlider(min=0, max=1, step=0.01, value=1.)\n",
    "interact(plotB,p=p_w)       "
   ]
  }
 ],
 "metadata": {
  "anaconda-cloud": {},
  "kernelspec": {
   "display_name": "matplotlib2",
   "language": "python",
   "name": "matplotlib2"
  },
  "language_info": {
   "codemirror_mode": {
    "name": "ipython",
    "version": 2
   },
   "file_extension": ".py",
   "mimetype": "text/x-python",
   "name": "python",
   "nbconvert_exporter": "python",
   "pygments_lexer": "ipython2",
   "version": "2.7.14"
  },
  "latex_envs": {
   "LaTeX_envs_menu_present": true,
   "autoclose": false,
   "autocomplete": true,
   "bibliofile": "biblio.bib",
   "cite_by": "apalike",
   "current_citInitial": 1,
   "eqLabelWithNumbers": true,
   "eqNumInitial": 1,
   "hotkeys": {
    "equation": "Ctrl-E",
    "itemize": "Ctrl-I"
   },
   "labels_anchors": false,
   "latex_user_defs": false,
   "report_style_numbering": false,
   "user_envs_cfg": false
  }
 },
 "nbformat": 4,
 "nbformat_minor": 2
}
