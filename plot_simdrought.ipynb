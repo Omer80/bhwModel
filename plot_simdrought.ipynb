{
 "cells": [
  {
   "cell_type": "code",
   "execution_count": 1,
   "metadata": {},
   "outputs": [],
   "source": [
    "import matplotlib.pyplot as plt\n",
    "from ipywidgets import interact, interactive,FloatSlider,IntSlider\n",
    "import deepdish.io as dd\n",
    "import numpy as np\n",
    "%matplotlib inline\n",
    "def find_closest(A, target):\n",
    "    #A must be sorted\n",
    "    idx = A.searchsorted(target)\n",
    "    idx = np.clip(idx, 1, len(A)-1)\n",
    "    left = A[idx-1]\n",
    "    right = A[idx]\n",
    "    idx -= target - left < right - target\n",
    "    return idx"
   ]
  },
  {
   "cell_type": "code",
   "execution_count": 2,
   "metadata": {},
   "outputs": [],
   "source": [
    "#chi0_0 = dd.load('../../Dropbox/code/bwh/drought_chi0_0_random.hdf5')\n",
    "chi0_0 = dd.load('results/bwh_drought_chi0_0.hdf5')\n",
    "#chi0_5 = dd.load('results/draught_chi0_5_random.hdf5')\n",
    "#chi1_0 = dd.load('../../Dropbox/code/bwh/drought_chi0_0_random.hdf5')\n",
    "data = [chi0_0]"
   ]
  },
  {
   "cell_type": "code",
   "execution_count": 3,
   "metadata": {},
   "outputs": [
    {
     "data": {
      "text/plain": [
       "6"
      ]
     },
     "execution_count": 3,
     "metadata": {},
     "output_type": "execute_result"
    }
   ],
   "source": [
    "find_closest(np.sort(data[0]['p']),4.0)"
   ]
  },
  {
   "cell_type": "code",
   "execution_count": 8,
   "metadata": {},
   "outputs": [],
   "source": [
    "def plotB(filenum,p):\n",
    "    dataset = data[filenum]\n",
    "    p = np.amin(dataset['p'])+p*(np.amax(dataset['p'])-np.amin(dataset['p']))\n",
    "    #print p\n",
    "    idx = len(dataset['p'])-find_closest(np.sort(dataset['p']),p)-1\n",
    "    #print idx\n",
    "    plt.imshow(dataset['b'][idx],cmap=plt.cm.YlGn,vmax=1.0,vmin=0.0)\n",
    "    plt.colorbar()\n",
    "    print \"p=\",dataset['p'][idx],\"<b>=\",np.mean(dataset['b'][idx])"
   ]
  },
  {
   "cell_type": "code",
   "execution_count": 9,
   "metadata": {},
   "outputs": [
    {
     "data": {
      "application/vnd.jupyter.widget-view+json": {
       "model_id": "122b16abfa7147628c48ff074325495a",
       "version_major": 2,
       "version_minor": 0
      },
      "text/html": [
       "<p>Failed to display Jupyter Widget of type <code>interactive</code>.</p>\n",
       "<p>\n",
       "  If you're reading this message in the Jupyter Notebook or JupyterLab Notebook, it may mean\n",
       "  that the widgets JavaScript is still loading. If this message persists, it\n",
       "  likely means that the widgets JavaScript library is either not installed or\n",
       "  not enabled. See the <a href=\"https://ipywidgets.readthedocs.io/en/stable/user_install.html\">Jupyter\n",
       "  Widgets Documentation</a> for setup instructions.\n",
       "</p>\n",
       "<p>\n",
       "  If you're reading this message in another frontend (for example, a static\n",
       "  rendering on GitHub or <a href=\"https://nbviewer.jupyter.org/\">NBViewer</a>),\n",
       "  it may mean that your frontend doesn't currently support widgets.\n",
       "</p>\n"
      ],
      "text/plain": [
       "interactive(children=(IntSlider(value=0, description=u'filenum', max=0), FloatSlider(value=1.0, description=u'p', max=1.0, step=0.01), Output()), _dom_classes=('widget-interact',))"
      ]
     },
     "metadata": {},
     "output_type": "display_data"
    },
    {
     "data": {
      "text/plain": [
       "<function __main__.plotB>"
      ]
     },
     "execution_count": 9,
     "metadata": {},
     "output_type": "execute_result"
    }
   ],
   "source": [
    "filenum_w  = IntSlider(min=0, max=len(data)-1, step=1, value=0)\n",
    "p_w        = FloatSlider(min=0, max=1, step=0.01, value=1.)\n",
    "interact(plotB,filenum=filenum_w,p=p_w)       "
   ]
  }
 ],
 "metadata": {
  "anaconda-cloud": {},
  "kernelspec": {
   "display_name": "matplotlib2",
   "language": "python",
   "name": "matplotlib2"
  },
  "language_info": {
   "codemirror_mode": {
    "name": "ipython",
    "version": 2
   },
   "file_extension": ".py",
   "mimetype": "text/x-python",
   "name": "python",
   "nbconvert_exporter": "python",
   "pygments_lexer": "ipython2",
   "version": "2.7.14"
  }
 },
 "nbformat": 4,
 "nbformat_minor": 2
}
