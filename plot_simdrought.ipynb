{
 "cells": [
  {
   "cell_type": "code",
   "execution_count": 1,
   "metadata": {
    "code_folding": [
     6
    ],
    "collapsed": true
   },
   "outputs": [],
   "source": [
    "# Setting up\n",
    "import matplotlib.pyplot as plt\n",
    "from ipywidgets import interact, interactive,FloatSlider,IntSlider\n",
    "import deepdish.io as dd\n",
    "import numpy as np\n",
    "%matplotlib inline\n",
    "def find_closest(A, target):\n",
    "    #A must be sorted\n",
    "    idx = A.searchsorted(target)\n",
    "    idx = np.clip(idx, 1, len(A)-1)\n",
    "    left = A[idx-1]\n",
    "    right = A[idx]\n",
    "    idx -= target - left < right - target\n",
    "    return idx"
   ]
  },
  {
   "cell_type": "code",
   "execution_count": 2,
   "metadata": {
    "code_folding": [],
    "collapsed": true
   },
   "outputs": [],
   "source": [
    "# Loading data\n",
    "#chi0_0 = dd.load('../../Dropbox/code/bwh/drought_chi0_0_random.hdf5')\n",
    "chi0_0 = dd.load('../../Dropbox/code/bwh/bwh_drought_c0_random.hdf5')\n",
    "#chi0_5 = dd.load('results/draught_chi0_5_random.hdf5')\n",
    "chi1_0 = dd.load('../../Dropbox/code/bwh/bwh_drought_c1_random.hdf5')\n",
    "#data = [chi0_0,chi1_0]\n",
    "path = \"results/Set2\""
   ]
  },
  {
   "cell_type": "code",
   "execution_count": 3,
   "metadata": {
    "code_folding": [],
    "collapsed": true
   },
   "outputs": [],
   "source": [
    "def plotB(p,save):\n",
    "    fig,ax=plt.subplots(1,2,sharey=True,figsize=(2*4.5,4))\n",
    "    fig.subplots_adjust(right=0.8)\n",
    "    p_chi0_0 = np.amin(chi0_0['p'])+p*(np.amax(chi0_0['p'])-np.amin(chi0_0['p']))\n",
    "    p_chi1_0 = np.amin(chi1_0['p'])+p*(np.amax(chi1_0['p'])-np.amin(chi1_0['p']))\n",
    "    #print p\n",
    "    idx_chi0_0 = len(chi0_0['p'])-find_closest(np.sort(chi0_0['p']),p_chi0_0)-1\n",
    "    idx_chi1_0 = len(chi1_0['p'])-find_closest(np.sort(chi1_0['p']),p_chi1_0)-1\n",
    "    #print idx\n",
    "    im1 = ax[0].imshow(chi0_0['b'][idx_chi0_0],cmap=plt.cm.YlGn,vmax=1.0,vmin=0.0)\n",
    "    ax[0].set_title(r'$\\chi=0$')\n",
    "    im2 = ax[1].imshow(chi1_0['b'][idx_chi1_0],cmap=plt.cm.YlGn,vmax=1.0,vmin=0.0)\n",
    "    ax[1].set_title(r'$\\chi=1$')\n",
    "    cbar_ax1 = fig.add_axes([0.82, 0.3, 0.03, 0.45])\n",
    "    fig.colorbar(im2, cax=cbar_ax1)\n",
    "    #plt.colorbar(im1, ax=ax[0])\n",
    "    #plt.tight_layout()\n",
    "    print \"p=\",chi0_0['p'][idx_chi0_0],\", for chi=0 <b>=\",np.mean(chi0_0['b'][idx_chi0_0]),\n",
    "    print \",for chi=1 <b>=\",np.mean(chi1_0['b'][idx_chi1_0])\n",
    "    if save:\n",
    "        fname = path+\"/bwh_drought_p{:4.3f}\".format(chi0_0['p'][idx_chi0_0]).replace(\".\",\"_\")\n",
    "        print \"Saved in:\",fname\n",
    "        plt.savefig(fname+\".png\")\n",
    "        plt.savefig(fname+\".pdf\")"
   ]
  },
  {
   "cell_type": "code",
   "execution_count": 5,
   "metadata": {},
   "outputs": [
    {
     "data": {
      "application/vnd.jupyter.widget-view+json": {
       "model_id": "118f57dff3584fddbdc3175cd01c2bdc",
       "version_major": 2,
       "version_minor": 0
      },
      "text/plain": [
       "A Jupyter Widget"
      ]
     },
     "metadata": {},
     "output_type": "display_data"
    },
    {
     "data": {
      "text/plain": [
       "<function __main__.plotB>"
      ]
     },
     "execution_count": 5,
     "metadata": {},
     "output_type": "execute_result"
    }
   ],
   "source": [
    "p_w     = FloatSlider(min=0, max=1, step=0.01, value=1.)\n",
    "save_w  = IntSlider(min=0, max=1, value=0)\n",
    "interact(plotB,p=p_w,save=save_w)       "
   ]
  }
 ],
 "metadata": {
  "anaconda-cloud": {},
  "kernelspec": {
   "display_name": "Python [conda env:matplotlib2]",
   "language": "python",
   "name": "conda-env-matplotlib2-py"
  },
  "language_info": {
   "codemirror_mode": {
    "name": "ipython",
    "version": 2
   },
   "file_extension": ".py",
   "mimetype": "text/x-python",
   "name": "python",
   "nbconvert_exporter": "python",
   "pygments_lexer": "ipython2",
   "version": "2.7.14"
  },
  "latex_envs": {
   "LaTeX_envs_menu_present": true,
   "autoclose": false,
   "autocomplete": true,
   "bibliofile": "biblio.bib",
   "cite_by": "apalike",
   "current_citInitial": 1,
   "eqLabelWithNumbers": true,
   "eqNumInitial": 1,
   "hotkeys": {
    "equation": "Ctrl-E",
    "itemize": "Ctrl-I"
   },
   "labels_anchors": false,
   "latex_user_defs": false,
   "report_style_numbering": false,
   "user_envs_cfg": false
  }
 },
 "nbformat": 4,
 "nbformat_minor": 2
}
