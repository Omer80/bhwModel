{
 "cells": [
  {
   "cell_type": "code",
   "execution_count": 1,
   "metadata": {
    "code_folding": []
   },
   "outputs": [],
   "source": [
    "# Setting up\n",
    "import matplotlib.pyplot as plt\n",
    "from ipywidgets import interact, interactive,FloatSlider,IntSlider\n",
    "import deepdish.io as dd\n",
    "import numpy as np\n",
    "%matplotlib inline\n",
    "def find_closest(A, target):\n",
    "    #A must be sorted\n",
    "    idx = A.searchsorted(target)\n",
    "    idx = np.clip(idx, 1, len(A)-1)\n",
    "    left = A[idx-1]\n",
    "    right = A[idx]\n",
    "    idx -= target - left < right - target\n",
    "    return idx\n",
    "path = 'results/Set4/'"
   ]
  },
  {
   "cell_type": "code",
   "execution_count": 2,
   "metadata": {},
   "outputs": [],
   "source": [
    "chi0 = dd.load('results/Set4/bwh_set4_drought_dy20_dp0_05_chi0_beta1_uniform.hdf5')\n",
    "chi1 = dd.load('results/Set4/bwh_set4_drought_dy20_dp0_05_chi1_beta1_uniform.hdf5')"
   ]
  },
  {
   "cell_type": "code",
   "execution_count": 3,
   "metadata": {},
   "outputs": [
    {
     "name": "stdout",
     "output_type": "stream",
     "text": [
      "dict_keys(['Ps_dimensional', 'T', 'b', 'h', 'l', 'n', 'p', 'w', 'beta', 'chi'])\n",
      "(256.0, 256.0)\n",
      "{'A': 174.87046632124353, 'DB': 0.1, 'DH': 2.7448888888888887, 'DW': 2.5, 'E': 1.75, 'F': 0.01, 'Gamma': 20.401554404145077, 'K': 0.5, 'Lambda_max': 0.03621503137385534, 'Lambda_min': 0.030179192811546116, 'M0': 2.9145077720207255, 'NH': 6.557642487046633, 'NW': 2.1858808290155443, 'P': 100.0, 'Q': 2.0, 'RH': 0.8, 'RW': 0.3, 'Z': 1000.0, 'del_to': 0.3, 'mu_s_max': 0.3, 'nZ': 300.0, 'npor': 0.3, 's_fc': 0.5333333333333333, 's_fos': 0.175, 's_wp': 0.085, 'seasonality': 0.0}\n",
      "47.41954215065533\n",
      "1.3 0.7\n",
      "234.5533120068351\n",
      "Bmax= 0.5354310161799841\n"
     ]
    }
   ],
   "source": [
    "print(chi1.keys())\n",
    "print(chi1['l'])\n",
    "Ps = chi0['Ps_dimensional']\n",
    "print(Ps)\n",
    "lattice_length=(chi1['l']/np.sqrt(Ps['M0']/Ps['DB']))[0]\n",
    "print(lattice_length)\n",
    "del_to = 0.3\n",
    "K_min   = (1.0-del_to)\n",
    "K_max   = (1.0+del_to)\n",
    "K_to = lambda chi: K_max + chi*(K_min-K_max)\n",
    "print(K_to(0),K_to(1))\n",
    "conv_P = 1.0/((Ps['Lambda_max'])/(Ps['M0']**2))\n",
    "print(conv_P)\n",
    "Bmax = np.amax((np.amax(np.amax(chi0['b']*K_to(0))),np.amax(np.amax(chi1['b']*K_to(1)))))\n",
    "print(\"Bmax=\",Bmax)"
   ]
  },
  {
   "cell_type": "code",
   "execution_count": 17,
   "metadata": {
    "code_folding": []
   },
   "outputs": [],
   "source": [
    "def plotB(p,save):\n",
    "    fig,ax=plt.subplots(1,2,sharey=True,figsize=(2*4.5,4))\n",
    "    fig.subplots_adjust(right=0.8)\n",
    "    p_chi0_0 = np.amin(chi0['p'])+p*(np.amax(chi0['p'])-np.amin(chi0['p']))\n",
    "    p_chi1_0 = np.amin(chi1['p'])+p*(np.amax(chi1['p'])-np.amin(chi1['p']))\n",
    "    #print p\n",
    "    idx_chi0_0 = len(chi0['p'])-find_closest(np.sort(chi0['p']),p_chi0_0)-1\n",
    "    idx_chi1_0 = len(chi1['p'])-find_closest(np.sort(chi1['p']),p_chi1_0)-1\n",
    "    #print idx\n",
    "    im1 = ax[0].imshow(chi0['b'][idx_chi0_0]*K_to(0),extent=(0,lattice_length,0,lattice_length),\n",
    "                       cmap=plt.cm.YlGn,vmax=Bmax,vmin=0.0)\n",
    "    ax[0].set_title(r'$\\chi=0,\\langle B \\rangle = {:04.2f}\\,kg/m^2$'.format(np.mean(chi0['b'][idx_chi0_0])*K_to(0)))\n",
    "    im2 = ax[1].imshow(chi1['b'][idx_chi1_0]*K_to(1),extent=(0,lattice_length,0,lattice_length),\n",
    "                       cmap=plt.cm.YlGn,vmax=Bmax,vmin=0.0)\n",
    "    ax[1].set_title(r'$\\chi=1,\\langle B \\rangle = {:04.2f}\\,kg/m^2$'.format(np.mean(chi1['b'][idx_chi1_0])*K_to(1)))\n",
    "    ax[0].set_xlabel(r'$X\\,[m]$')\n",
    "    ax[1].set_xlabel(r'$X\\,[m]$')\n",
    "    ax[0].set_xlabel(r'$Y\\,[m]$')\n",
    "    ax[1].set_xlabel(r'$Y\\,[m]$')\n",
    "    cbar_ax1 = fig.add_axes([0.82, 0.3, 0.03, 0.45])\n",
    "    fig.colorbar(im2, cax=cbar_ax1)\n",
    "    #plt.colorbar(im1, ax=ax[0])\n",
    "    #plt.tight_layout()\n",
    "    print(\"indexes=\",idx_chi0_0,idx_chi1_0,\", p=\",chi0['p'][idx_chi0_0],\", P=\",chi0['p'][idx_chi0_0]*conv_P,\", for chi=0 <b>=\",np.mean(chi0['b'][idx_chi0_0]), end=' ')\n",
    "    print(\",for chi=1 <b>=\",np.mean(chi1['b'][idx_chi1_0]))\n",
    "    if save:\n",
    "        fname = path+\"/bwh_drought_P{:3d}mm\".format(int(chi0['p'][idx_chi0_0]*conv_P)).replace(\".\",\"_\")\n",
    "        print(\"Saved in:\",fname)\n",
    "        plt.savefig(fname+\".png\")\n",
    "        plt.savefig(fname+\".pdf\")"
   ]
  },
  {
   "cell_type": "code",
   "execution_count": 18,
   "metadata": {},
   "outputs": [
    {
     "data": {
      "application/vnd.jupyter.widget-view+json": {
       "model_id": "ac682f96cfa04466a1b90270f475ed27",
       "version_major": 2,
       "version_minor": 0
      },
      "text/plain": [
       "interactive(children=(FloatSlider(value=1.0, description='p', max=1.0, step=0.01), IntSlider(value=0, descript…"
      ]
     },
     "metadata": {},
     "output_type": "display_data"
    },
    {
     "data": {
      "text/plain": [
       "<function __main__.plotB(p, save)>"
      ]
     },
     "execution_count": 18,
     "metadata": {},
     "output_type": "execute_result"
    }
   ],
   "source": [
    "%matplotlib notebook\n",
    "p_w     = FloatSlider(min=0, max=1, step=0.01, value=1.)\n",
    "save_w  = IntSlider(min=0, max=1, value=0)\n",
    "interact(plotB,p=p_w,save=save_w)"
   ]
  },
  {
   "cell_type": "code",
   "execution_count": 16,
   "metadata": {},
   "outputs": [],
   "source": [
    "state=np.concatenate((chi0['b'][6],chi0['w'][6],chi0['h'][6]),axis=None)\n",
    "np.savetxt('bwh_state_P608.dat',state)"
   ]
  },
  {
   "cell_type": "code",
   "execution_count": 20,
   "metadata": {},
   "outputs": [
    {
     "data": {
      "text/plain": [
       "(512, 512)"
      ]
     },
     "execution_count": 20,
     "metadata": {},
     "output_type": "execute_result"
    }
   ],
   "source": [
    "chi0['n']"
   ]
  }
 ],
 "metadata": {
  "@webio": {
   "lastCommId": null,
   "lastKernelId": null
  },
  "anaconda-cloud": {},
  "kernelspec": {
   "display_name": "Python 3",
   "language": "python",
   "name": "python3"
  },
  "language_info": {
   "codemirror_mode": {
    "name": "ipython",
    "version": 3
   },
   "file_extension": ".py",
   "mimetype": "text/x-python",
   "name": "python",
   "nbconvert_exporter": "python",
   "pygments_lexer": "ipython3",
   "version": "3.7.3"
  },
  "latex_envs": {
   "LaTeX_envs_menu_present": true,
   "autoclose": false,
   "autocomplete": true,
   "bibliofile": "biblio.bib",
   "cite_by": "apalike",
   "current_citInitial": 1,
   "eqLabelWithNumbers": true,
   "eqNumInitial": 1,
   "hotkeys": {
    "equation": "Ctrl-E",
    "itemize": "Ctrl-I"
   },
   "labels_anchors": false,
   "latex_user_defs": false,
   "report_style_numbering": false,
   "user_envs_cfg": false
  }
 },
 "nbformat": 4,
 "nbformat_minor": 2
}
